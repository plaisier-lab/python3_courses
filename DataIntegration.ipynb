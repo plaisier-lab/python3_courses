{
  "nbformat": 4,
  "nbformat_minor": 0,
  "metadata": {
    "colab": {
      "provenance": [],
      "toc_visible": true,
      "authorship_tag": "ABX9TyM69ScyGNBtoBPZef1KG9st",
      "include_colab_link": true
    },
    "kernelspec": {
      "name": "python3",
      "display_name": "Python 3"
    },
    "language_info": {
      "name": "python"
    }
  },
  "cells": [
    {
      "cell_type": "markdown",
      "metadata": {
        "id": "view-in-github",
        "colab_type": "text"
      },
      "source": [
        "<a href=\"https://colab.research.google.com/github/plaisier-lab/python3_courses/blob/main/DataIntegration.ipynb\" target=\"_parent\"><img src=\"https://colab.research.google.com/assets/colab-badge.svg\" alt=\"Open In Colab\"/></a>"
      ]
    },
    {
      "cell_type": "markdown",
      "source": [
        "<h1>BME 210:  Week 15 - Data Integration</h1>"
      ],
      "metadata": {
        "id": "eYZq5dsBlX0H"
      }
    },
    {
      "cell_type": "markdown",
      "source": [
        "#<h2>Background</h2>\n",
        "<p>Most work in data anlaysis involves data integration of large tables to identify intersections and the significance of the overlaps. The data we use to integrate determines the meaning of our anlayses. For example, in this weeks programming assignment you will integrate data from two experimental sources that descibe which genes transcription factors regulate. Transcritpion factors or TFs are proteins which bind to the DNA and change the expression pattern of RNA from a genomic locus or gene.</p>\n",
        "\n",
        "<img src='https://ib.bioninja.com.au/_Media/gene-expression_med.jpeg'>\n",
        "\n",
        "<p><b>Figure 1.</b> In this figure from BioNinja the TFs are the yellow and red proteins, and the purple is the RNA polymerase. The expression of the gene can be modified up or down based on the function of the TF.</p>"
      ],
      "metadata": {
        "id": "xWATlVasM4hO"
      }
    },
    {
      "cell_type": "markdown",
      "source": [
        "##<h3>Sources of data</h3>\n",
        "<p>For these analyses we will be integrating two different experimental types.</p>"
      ],
      "metadata": {
        "id": "vNffDH31NLtr"
      }
    },
    {
      "cell_type": "markdown",
      "source": [
        "###<h4>Differential expression analysis</h4>\n",
        "First, experimental quantification of RNA expression after TF over-expression. This identifies genes that change expression in the presence of the TF. The change in gene expresssion depends on the mechanism of interaction with teh target gene promoter with the TF. TFs can function as an acivator (increases expression of target) or repressor (decreases expression of target). The goal of TF over-expression is to identify statistically differentially expressed genes. We do this using differential expression anlaysis which is best exemplified by the figure below:</p>\n",
        "\n",
        "<center><img src='https://www.htgmolecular.com/assets/htg/imgs/volcano_plot.JPG' width='600'></center>"
      ],
      "metadata": {
        "id": "PK4F7OrSNROt"
      }
    },
    {
      "cell_type": "markdown",
      "source": [
        "###<h4>Direct TF binding to promoter via ChIP-seq</h4>\n",
        "<p>The second data type is direct TF binding using ChIP-seq using an antibody for the TF. In this experimental appraoch the TF is crosslinked to the DNA, the DNA is sheared into smaller fragments, the antibody is used to pulldown fragments bound by the TF, the TF is released, adapters are ligated, and the DNA fragments are sequenced to identify the regions bound by the TF. This is shown in the figure below:</p>\n",
        "\n",
        "<center><img src='https://media.springernature.com/m685/springer-static/image/art%3A10.1038%2Fnmeth.f.247/MediaObjects/41592_2009_Article_BFnmethf247_Fig1_HTML.jpg' width='400'></center>"
      ],
      "metadata": {
        "id": "LjDM-inYNlyb"
      }
    },
    {
      "cell_type": "markdown",
      "source": [
        "###<h4>Integrating the data types</h4>\n",
        "\n",
        "<p>It should be noted that differential expression analysis does not give us direct targets, and ChIP-seq gives us direct targets but does not tell us if the binding leads to differential expression. Thus integrating these two methods can provide us with a list of target genes that are bound by the TF and this binding leads to differential expression. These genes should hopefully have a significant overlap between these two data sources, otherwise we know there is a problem somewhere either experimentally or data analysis.</p>"
      ],
      "metadata": {
        "id": "LqSagM-uNvsr"
      }
    },
    {
      "cell_type": "markdown",
      "source": [
        "#<h2>Outline of anlaysis</h2>\n",
        "\n",
        "<ol>\n",
        "    <li>Download data</li>\n",
        "    <li>Load RNA-seq and get gene list</li>\n",
        "    <li>Load ChIP-seq and get gene list</li>\n",
        "    <li>Convert into same gene identifiers if necessary</li>\n",
        "    <li>Find overlap</li>\n",
        "    <li>Make Venn diagram</li>\n",
        "</ol>\n",
        "\n",
        "<p>These analyses are based off the studies of the TF USF1 from <a href='https://pubmed.ncbi.nlm.nih.gov/19750004/'>Plaisier et al., 2009</a>. In this work they show that USF1 over-expression (OE) genes overlap with ChIP-seq target genes for USF1.</p>\n",
        "\n",
        "<p><b>Goal of these studies</b>: We will repeat the analysis between USF1 OE differentially expressed genes (DEGs) and ChIP-seq target genes with newer data.</p>"
      ],
      "metadata": {
        "id": "qE3_kORGOiu0"
      }
    },
    {
      "cell_type": "markdown",
      "source": [
        "#<h2>0. Install packages</h2>\n",
        "\n",
        "<p>Two packages are required for this analysis pipeline:</p>\n",
        "<ol>\n",
        "    <li><a href='https://pypi.org/project/matplotlib-venn/'>matplot-venn</a> - package to make Venn diagrams that show the overlap between two or more lists of objects of a similar type.</li>\n",
        "    <li><a href='https://docs.mygene.info/projects/mygene-py/en/latest/'>mygene</a> - package to convert gene IDs between types.</li>\n",
        "</ol>"
      ],
      "metadata": {
        "id": "QqT5Uu1RqbGn"
      }
    },
    {
      "cell_type": "code",
      "source": [
        "# Install packages needed to conduct analyses\n",
        "!pip install matplotlib-venn\n",
        "!pip install mygene"
      ],
      "metadata": {
        "colab": {
          "base_uri": "https://localhost:8080/"
        },
        "id": "d48lJIaMoOWA",
        "outputId": "462243ff-7820-4814-e66d-456073c0441d"
      },
      "execution_count": 1,
      "outputs": [
        {
          "output_type": "stream",
          "name": "stdout",
          "text": [
            "Looking in indexes: https://pypi.org/simple, https://us-python.pkg.dev/colab-wheels/public/simple/\n",
            "Requirement already satisfied: matplotlib-venn in /usr/local/lib/python3.7/dist-packages (0.11.7)\n",
            "Requirement already satisfied: matplotlib in /usr/local/lib/python3.7/dist-packages (from matplotlib-venn) (3.2.2)\n",
            "Requirement already satisfied: numpy in /usr/local/lib/python3.7/dist-packages (from matplotlib-venn) (1.21.6)\n",
            "Requirement already satisfied: scipy in /usr/local/lib/python3.7/dist-packages (from matplotlib-venn) (1.7.3)\n",
            "Requirement already satisfied: python-dateutil>=2.1 in /usr/local/lib/python3.7/dist-packages (from matplotlib->matplotlib-venn) (2.8.2)\n",
            "Requirement already satisfied: kiwisolver>=1.0.1 in /usr/local/lib/python3.7/dist-packages (from matplotlib->matplotlib-venn) (1.4.4)\n",
            "Requirement already satisfied: cycler>=0.10 in /usr/local/lib/python3.7/dist-packages (from matplotlib->matplotlib-venn) (0.11.0)\n",
            "Requirement already satisfied: pyparsing!=2.0.4,!=2.1.2,!=2.1.6,>=2.0.1 in /usr/local/lib/python3.7/dist-packages (from matplotlib->matplotlib-venn) (3.0.9)\n",
            "Requirement already satisfied: typing-extensions in /usr/local/lib/python3.7/dist-packages (from kiwisolver>=1.0.1->matplotlib->matplotlib-venn) (4.1.1)\n",
            "Requirement already satisfied: six>=1.5 in /usr/local/lib/python3.7/dist-packages (from python-dateutil>=2.1->matplotlib->matplotlib-venn) (1.15.0)\n",
            "Looking in indexes: https://pypi.org/simple, https://us-python.pkg.dev/colab-wheels/public/simple/\n",
            "Requirement already satisfied: mygene in /usr/local/lib/python3.7/dist-packages (3.2.2)\n",
            "Requirement already satisfied: biothings-client>=0.2.6 in /usr/local/lib/python3.7/dist-packages (from mygene) (0.2.6)\n",
            "Requirement already satisfied: requests>=2.3.0 in /usr/local/lib/python3.7/dist-packages (from biothings-client>=0.2.6->mygene) (2.23.0)\n",
            "Requirement already satisfied: certifi>=2017.4.17 in /usr/local/lib/python3.7/dist-packages (from requests>=2.3.0->biothings-client>=0.2.6->mygene) (2022.9.24)\n",
            "Requirement already satisfied: urllib3!=1.25.0,!=1.25.1,<1.26,>=1.21.1 in /usr/local/lib/python3.7/dist-packages (from requests>=2.3.0->biothings-client>=0.2.6->mygene) (1.24.3)\n",
            "Requirement already satisfied: idna<3,>=2.5 in /usr/local/lib/python3.7/dist-packages (from requests>=2.3.0->biothings-client>=0.2.6->mygene) (2.10)\n",
            "Requirement already satisfied: chardet<4,>=3.0.2 in /usr/local/lib/python3.7/dist-packages (from requests>=2.3.0->biothings-client>=0.2.6->mygene) (3.0.4)\n"
          ]
        }
      ]
    },
    {
      "cell_type": "markdown",
      "source": [
        "##<h4>0.1 Load up packages</h4>\n",
        "\n",
        "<p>Need a suite of different pacakges that provide the functionality to conduct the analyses in this pipeline:</p>\n",
        "\n",
        "<ul>\n",
        "  <b>Data import</b>\n",
        "  <li><a href='https://pandas.pydata.org/pandas-docs/stable/reference/index.html'>pandas</a></li>\n",
        "  <li><a href='https://numpy.org/doc/stable/reference/c-api/index.html'>numpy</a></li>\n",
        "  <b>Gene ID conversion</b>\n",
        "  <li><a href='https://docs.mygene.info/projects/mygene-py/en/latest/'>mygene</a></li>\n",
        "  <b>Plot Venn diagram</b>\n",
        "  <li><a href='https://matplotlib.org/stable/api/index.html'>matplotlib</a></li>\n",
        "  <li><a href='https://pypi.org/project/matplotlib-venn/'>matplotlib_venn</a></li>\n",
        "</ul>"
      ],
      "metadata": {
        "id": "CPKTP7jbreJH"
      }
    },
    {
      "cell_type": "code",
      "source": [
        "## Import packages for anlaysis\n",
        "\n",
        "# For data import and manipulation\n",
        "import pandas as pd\n",
        "import numpy as np\n",
        "import json\n",
        "\n",
        "# For gene ID conversions\n",
        "import mygene\n",
        "mg = mygene.MyGeneInfo()\n",
        "\n",
        "# For plotting Venn diagrams\n",
        "from matplotlib import pyplot as plt\n",
        "from matplotlib_venn import venn2, venn3"
      ],
      "metadata": {
        "id": "kucEB932mddB"
      },
      "execution_count": 2,
      "outputs": []
    },
    {
      "cell_type": "markdown",
      "source": [
        "# 1. Download Data"
      ],
      "metadata": {
        "id": "BElTG-X9PJ0s"
      }
    },
    {
      "cell_type": "markdown",
      "source": [
        "Data in this case was processed through various pipelines to generate a gene list of RNA-seq differentially expressed genes, Encode TF targets, and previously known USF1 target genes."
      ],
      "metadata": {
        "id": "IYmGRlsvPjuk"
      }
    },
    {
      "cell_type": "code",
      "source": [
        "!gdown 1-kc-J6Y_Rg7974D6JB5glMxRgUA2kJlM\n",
        "!gdown 1O6pONtylXlqhzC2Nqr5utWzliiC7L-6z\n",
        "#!gdown 1S1roy77HgeOAZSiVyHWrKRIoliIbdimw\n",
        "!ls\n"
      ],
      "metadata": {
        "colab": {
          "base_uri": "https://localhost:8080/"
        },
        "id": "G-SVDwdIPjWH",
        "outputId": "a576e05e-4483-4e94-f342-c3aea167c13d"
      },
      "execution_count": 3,
      "outputs": [
        {
          "output_type": "stream",
          "name": "stdout",
          "text": [
            "Downloading...\n",
            "From: https://drive.google.com/uc?id=1-kc-J6Y_Rg7974D6JB5glMxRgUA2kJlM\n",
            "To: /content/USF1_OE_DEGs.csv\n",
            "100% 154k/154k [00:00<00:00, 82.4MB/s]\n",
            "Downloading...\n",
            "From: https://drive.google.com/uc?id=1O6pONtylXlqhzC2Nqr5utWzliiC7L-6z\n",
            "To: /content/ENCODE_TF_targests_USF1.json\n",
            "100% 977k/977k [00:00<00:00, 114MB/s]\n",
            "ENCODE_TF_targests_USF1.json\t  ENCODE_TF_targests_USF1.txt  USF1_OE_DEGs.csv\n",
            "ENCODE_TF_targests_USF1.json.txt  sample_data\n"
          ]
        }
      ]
    },
    {
      "cell_type": "markdown",
      "source": [
        "# 2. Load RNA-seq and get gene list"
      ],
      "metadata": {
        "id": "UtbZjdszPO2l"
      }
    },
    {
      "cell_type": "markdown",
      "source": [
        "##2.1 Look at RNA-seq DEGs file (USF1_OE_DEGs.csv)\n",
        "\n",
        "<p>Take a look at the file in Sublime text editor:</p>\n",
        "\n",
        "<center><img src='https://lh5.googleusercontent.com/2Ss-jNZRgE6vhp1rHCQ1QoQHyICB3QS1lYV561E_SkPT4iqrY4W7a2zfeOYTNjZP-vE=w2400' width='600'></center>"
      ],
      "metadata": {
        "id": "ycSueVYYuSf_"
      }
    },
    {
      "cell_type": "markdown",
      "source": [
        "##<h4>2.2 Ask our standard set of questions</h4>\n",
        "\n",
        "<ul>\n",
        "  <li>Q: What is the file extension? A: csv</li>\n",
        "  <li>Q: What is the file delimiter? A: commas</li>\n",
        "  <li>Q: Does the file have a header? A: yes</li>\n",
        "  <li>Q: Is there a unique index? A: yes</li>\n",
        "  <li>Q: Which column should we use as a unique index? A: 0</li>\n",
        "</ul>"
      ],
      "metadata": {
        "id": "camq1VrC3JX4"
      }
    },
    {
      "cell_type": "markdown",
      "source": [
        "##<h4>2.3 Load file</h4>\n",
        "\n",
        "<p>Now we are ready to load up the file.</p>"
      ],
      "metadata": {
        "id": "QoongbW53SlI"
      }
    },
    {
      "cell_type": "code",
      "source": [
        "# Load up RNA-seq DEGs\n",
        "degs_df = pd.read_csv('USF1_OE_DEGs.csv', header = 0, index_col = 0)\n",
        "print(degs_df.shape)\n",
        "print(degs_df.columns)\n",
        "print(degs_df.index)"
      ],
      "metadata": {
        "colab": {
          "base_uri": "https://localhost:8080/"
        },
        "id": "1Das50ztwgcX",
        "outputId": "07a8dc34-ce35-41ae-df9b-627d628b8c80"
      },
      "execution_count": 19,
      "outputs": [
        {
          "output_type": "stream",
          "name": "stdout",
          "text": [
            "(3353, 5)\n",
            "Index(['EntrezID', 'Fold-Change', 'T Statistic', 'DegreesofFreedom',\n",
            "       'P-value'],\n",
            "      dtype='object')\n",
            "Index(['218488_at', '212209_at', '221816_s_at', '219257_s_at', '203701_s_at',\n",
            "       '223441_at', '233329_s_at', '205548_s_at', '205935_at', '211774_s_at',\n",
            "       ...\n",
            "       '218423_x_at', '206864_s_at', '205986_at', '208066_s_at', '217028_at',\n",
            "       '225269_s_at', '217886_at', '238597_at', '218365_s_at', '239277_at'],\n",
            "      dtype='object', length=3353)\n"
          ]
        }
      ]
    },
    {
      "cell_type": "markdown",
      "source": [
        "##<h4>2.4 Further processing to extract Entrez IDs</h4>\n",
        "\n",
        "<p>Now we need to dig into the pands DataFrame to extract the Entrez gene IDs. Very simple using column ID. Going to save it into a list because it is only a single value per entry we are saving.</p>"
      ],
      "metadata": {
        "id": "8WrnSQte9oj_"
      }
    },
    {
      "cell_type": "code",
      "source": [
        "degs = list(degs_df['EntrezID'].dropna())"
      ],
      "metadata": {
        "id": "pwoVaBvd9pPv"
      },
      "execution_count": 28,
      "outputs": []
    },
    {
      "cell_type": "markdown",
      "source": [
        "##<h4>2.5 How many genes? Any duplicates?</h4>\n",
        "\n",
        "<p>Because there are duplicates we remove them using a nifty trick of converting to a set and then back into a list. The set conversion removes any duplicates as a set can only contain unique values.</p>"
      ],
      "metadata": {
        "id": "lyn7Ps_J-kHY"
      }
    },
    {
      "cell_type": "code",
      "source": [
        "print(len(degs))\n",
        "print(len(set(degs))) # duplicates!\n",
        "\n",
        "# Get rid of duplicates\n",
        "degs = list(set(degs))"
      ],
      "metadata": {
        "colab": {
          "base_uri": "https://localhost:8080/"
        },
        "id": "VCsa3olQ-rqr",
        "outputId": "8dd04af1-16a0-4b5d-9d7c-a6fe6ece6074"
      },
      "execution_count": 29,
      "outputs": [
        {
          "output_type": "stream",
          "name": "stdout",
          "text": [
            "3269\n",
            "2803\n"
          ]
        }
      ]
    },
    {
      "cell_type": "markdown",
      "source": [
        "# 3. Load ChIP-seq and get gene list"
      ],
      "metadata": {
        "id": "xLDrtv1DPSsM"
      }
    },
    {
      "cell_type": "markdown",
      "source": [
        "##<h4>3.1 Look at ChIP-seq target gene file (.json)</h4>\n",
        "\n",
        "<p>Take a look at the file in Sublime text editor:</p>\n",
        "\n",
        "<center><img src='https://lh5.googleusercontent.com/FLbCwR26l6rvQ_01Yw5VE43beCUGgPGltvuPnzbuAqia9a4MPeRMXUVL283BF71LrGo=w2400' width='600'></center>"
      ],
      "metadata": {
        "id": "UzefHkyB3DL4"
      }
    },
    {
      "cell_type": "markdown",
      "source": [
        "##<h4>3.2 Ask our standard set of questions</h4>\n",
        "\n",
        "<ul>\n",
        "  <li>Q: What is the file extension? A: json</li>\n",
        "  Full stop!\n",
        "</ul>"
      ],
      "metadata": {
        "id": "4_uLRRDb6YIK"
      }
    },
    {
      "cell_type": "markdown",
      "source": [],
      "metadata": {
        "id": "OYXfqD2NQqs2"
      }
    },
    {
      "cell_type": "markdown",
      "source": [
        "##<h4>3.3 Load file</h4>\n",
        "\n",
        "<p>Because this is a json file we need to use the json package to load up the file.</p>"
      ],
      "metadata": {
        "id": "Btc5ePn09B9o"
      }
    },
    {
      "cell_type": "code",
      "source": [
        "with open('ENCODE_TF_targests_USF1.json','r') as json_file:\n",
        "     chip_targets_json = json.load(json_file)\n",
        "\n",
        "print(chip_targets_json.keys())"
      ],
      "metadata": {
        "colab": {
          "base_uri": "https://localhost:8080/"
        },
        "id": "A-YVL5mE3DEI",
        "outputId": "23deefaf-7c73-4024-b57a-bf7c3e805de2"
      },
      "execution_count": 30,
      "outputs": [
        {
          "output_type": "stream",
          "name": "stdout",
          "text": [
            "dict_keys(['attribute', 'dataset', 'associations'])\n"
          ]
        }
      ]
    },
    {
      "cell_type": "markdown",
      "source": [
        "##<h4>3.4 Further processing to extract gene symbols</h4>\n",
        "\n",
        "<p>Now we need to dig into the json data structure to extract the gene symbols. The gene symbols are under the 'associations' key, and then for each entry under the 'gene' and 'symbol' key. Going to save it into a list because it is only a single value per entry we are saving.</p>"
      ],
      "metadata": {
        "id": "ZrDNDVZn76Lx"
      }
    },
    {
      "cell_type": "code",
      "source": [
        "chip_targets = []\n",
        "for entry in chip_targets_json['associations']:\n",
        "    chip_targets.append(entry['gene']['symbol'])"
      ],
      "metadata": {
        "id": "RaXR64P476aw"
      },
      "execution_count": 31,
      "outputs": []
    },
    {
      "cell_type": "markdown",
      "source": [
        "##<h4>3.5 How many genes? Any duplicates?</h4>"
      ],
      "metadata": {
        "id": "NgVZXy6F9Z9Z"
      }
    },
    {
      "cell_type": "code",
      "source": [
        "print(len(chip_targets))\n",
        "print(len(set(chip_targets))) # no duplicates!"
      ],
      "metadata": {
        "colab": {
          "base_uri": "https://localhost:8080/"
        },
        "id": "6ivcx1aA9Yrf",
        "outputId": "e34ecb69-034b-4de2-deb3-ddc641779a47"
      },
      "execution_count": 32,
      "outputs": [
        {
          "output_type": "stream",
          "name": "stdout",
          "text": [
            "12305\n",
            "12305\n"
          ]
        }
      ]
    },
    {
      "cell_type": "markdown",
      "source": [
        "# 4. Convert into same gene identifiers if necessary"
      ],
      "metadata": {
        "id": "JRtQetAuPVbb"
      }
    },
    {
      "cell_type": "markdown",
      "source": [
        "##<h4>4.1 Check if gene identifiers have same type</h4>\n",
        "\n",
        "<p>First print out degs:</p>"
      ],
      "metadata": {
        "id": "LjznRlXa_Ky5"
      }
    },
    {
      "cell_type": "code",
      "execution_count": 34,
      "metadata": {
        "id": "Y4gGV59Agbh4",
        "colab": {
          "base_uri": "https://localhost:8080/"
        },
        "outputId": "0476d903-06b0-4f56-afca-98b955f52108"
      },
      "outputs": [
        {
          "output_type": "stream",
          "name": "stdout",
          "text": [
            "[8195.0, 81928.0, 90120.0, 81930.0, 9.0]\n"
          ]
        }
      ],
      "source": [
        "print(degs[0:5])\n"
      ]
    },
    {
      "cell_type": "markdown",
      "source": [
        "Next print out chip_targets:"
      ],
      "metadata": {
        "id": "BUjUO4-3A1yn"
      }
    },
    {
      "cell_type": "code",
      "source": [
        "print(chip_targets[0:5])"
      ],
      "metadata": {
        "colab": {
          "base_uri": "https://localhost:8080/"
        },
        "id": "nPRCBO2BA2Xg",
        "outputId": "d05d52f2-ed86-4b04-fb78-fdb38d57c8a0"
      },
      "execution_count": 35,
      "outputs": [
        {
          "output_type": "stream",
          "name": "stdout",
          "text": [
            "['SLC26A1', 'SLC5A8', 'ST20-MTHFS', 'P2RX5', 'ZNF740']\n"
          ]
        }
      ]
    },
    {
      "cell_type": "markdown",
      "source": [
        "<p>The degs are numbers (Entrez IDs) and chip_targets are text (symbols). They will not overlap because the genes are called differently in each gene identifier type. Thus we need to consolidate them both to the same gene identifier type.</p>"
      ],
      "metadata": {
        "id": "Xqap7GimA63i"
      }
    },
    {
      "cell_type": "markdown",
      "source": [
        "##<h4>4.2 Convert both to Entrez ID type</h4>\n",
        "\n",
        "<p>Easiest approach is to choose one of the types as the final gene identifier type. We don't want to choose gene symbol as they can change over time as the gene name evolves, and also can <a href='https://ncbiinsights.ncbi.nlm.nih.gov/2016/11/07/clearing-up-confusion-with-human-gene-symbols-names-using-ncbi-gene-data/'>cause problems when loaded into Excel</a>.</p>\n",
        "\n",
        "<p>This means we choose to convert the gene symbols in the chip_targets into Entrez IDs. And the easiest way to do this is using the mygene package.</p>"
      ],
      "metadata": {
        "id": "0VfLNWQyBOeg"
      }
    },
    {
      "cell_type": "code",
      "source": [
        "converted = mg.querymany(chip_targets, scopes='symbol', species='human', as_dataframe=True)"
      ],
      "metadata": {
        "colab": {
          "base_uri": "https://localhost:8080/"
        },
        "id": "h-mThIExB2Cn",
        "outputId": "6185e97c-3256-47c9-e0d4-ecfdcd1ec6c4"
      },
      "execution_count": 39,
      "outputs": [
        {
          "output_type": "stream",
          "name": "stdout",
          "text": [
            "querying 1-1000...done.\n",
            "querying 1001-2000...done.\n",
            "querying 2001-3000...done.\n",
            "querying 3001-4000...done.\n",
            "querying 4001-5000...done.\n",
            "querying 5001-6000...done.\n",
            "querying 6001-7000...done.\n",
            "querying 7001-8000...done.\n",
            "querying 8001-9000...done.\n",
            "querying 9001-10000...done.\n",
            "querying 10001-11000...done.\n",
            "querying 11001-12000...done.\n",
            "querying 12001-12305...done.\n",
            "Finished.\n",
            "146 input query terms found dup hits:\n",
            "\t[('MRPL45P2', 2), ('REXO1L2P', 2), ('GLRA4', 2), ('FAM224A', 2), ('ZNF826P', 2), ('SNORD58C', 2), ('\n",
            "881 input query terms found no hit:\n",
            "\t['MESDC2', 'NAT6', 'H2AFZ', 'HIST2H2AB', 'METTL12', 'C19ORF80', 'NGFRAP1', 'SEPT11', 'H2AFX', 'C4ORF\n",
            "Pass \"returnall=True\" to return complete lists of duplicate or missing query terms.\n"
          ]
        }
      ]
    },
    {
      "cell_type": "code",
      "source": [
        "chip_targets_entrez = list(converted['entrezgene'].dropna())\n",
        "print(chip_targets_entrez[0:5])"
      ],
      "metadata": {
        "colab": {
          "base_uri": "https://localhost:8080/"
        },
        "id": "D0TERVdICLzQ",
        "outputId": "aad10c1e-5f76-4966-b821-b2c288bc9cf6"
      },
      "execution_count": 43,
      "outputs": [
        {
          "output_type": "stream",
          "name": "stdout",
          "text": [
            "['10861', '160728', '100528021', '5026', '283337']\n",
            "[10861.0, 160728.0, 100528021.0, 5026.0, 283337.0]\n"
          ]
        }
      ]
    },
    {
      "cell_type": "markdown",
      "source": [
        "<p>One last thing. The degs Entrez IDs are in float format. And ours are in string. So we need to convert them to be comparable.</p>"
      ],
      "metadata": {
        "id": "_3U9So1KC1m3"
      }
    },
    {
      "cell_type": "code",
      "source": [
        "chip_targets_entrez_float = []\n",
        "for egid in chip_targets_entrez:\n",
        "    chip_targets_entrez_float.append(float(egid))\n",
        "\n",
        "print(chip_targets_entrez_float[0:5])"
      ],
      "metadata": {
        "colab": {
          "base_uri": "https://localhost:8080/"
        },
        "id": "4aCYfEypDdqv",
        "outputId": "11d1fbca-8f8d-4f9c-e26d-62035966d42c"
      },
      "execution_count": 44,
      "outputs": [
        {
          "output_type": "stream",
          "name": "stdout",
          "text": [
            "[10861.0, 160728.0, 100528021.0, 5026.0, 283337.0]\n"
          ]
        }
      ]
    },
    {
      "cell_type": "markdown",
      "source": [
        "#5. Find overlap"
      ],
      "metadata": {
        "id": "u_ZbDdTFDjgf"
      }
    },
    {
      "cell_type": "markdown",
      "source": [
        "##<h4>5.1 Find overlap between degs and chip_targets.</h4>\n",
        "\n",
        "<p>This is very simple using set theory, which we can do if we convert one of the lists to a set.</p>"
      ],
      "metadata": {
        "id": "5Q1PNZiwDuvY"
      }
    },
    {
      "cell_type": "code",
      "source": [
        "# Convert degs to set and intersect with chip_targets\n",
        "overlap = set(degs).intersection(chip_targets_entrez_float)\n",
        "print(list(overlap)[0:5])\n",
        "print(len(overlap))\n",
        "print(len(degs))\n",
        "print(len(chip_targets_entrez_float))"
      ],
      "metadata": {
        "colab": {
          "base_uri": "https://localhost:8080/"
        },
        "id": "A3iuYo4HD9iv",
        "outputId": "99fdd8d8-ac6f-461d-e18e-53e910a5643a"
      },
      "execution_count": 46,
      "outputs": [
        {
          "output_type": "stream",
          "name": "stdout",
          "text": [
            "[8195.0, 81928.0, 81930.0, 22.0, 23.0]\n",
            "2020\n",
            "2803\n",
            "11426\n"
          ]
        }
      ]
    },
    {
      "cell_type": "markdown",
      "source": [
        "##<h4>5.2 (optional) Significance of overlap</h4>\n",
        "\n",
        "<p>The significance of the overlap can be determined using the hypergeometric enrichment analysis.</p>\n",
        "<ul>\n",
        "    <li><a href='https://docs.scipy.org/doc/scipy/tutorial/stats/discrete_hypergeom.html#:~:text=Hypergeometric%20Distribution%20%E2%80%94%20SciPy%20v1.9.3%20Manual%20Hypergeometric%20Distribution,number%20of%20%E2%80%9Cgood%20%E2%80%9Cobjects%20in%20the%20total%20population.'>scipy.stats.hypergeom</a></li>\n",
        "</ul>\n",
        "\n",
        "<p>The survival function (hypergeom.sf) sums the likelihood of greater than or equal to the observed overlap.</p>"
      ],
      "metadata": {
        "id": "H31k7wDCE4rw"
      }
    },
    {
      "cell_type": "code",
      "source": [
        "from scipy.stats import hypergeom\n",
        "k = len(overlap)\n",
        "M = 20000\n",
        "n = len(degs)\n",
        "N = len(chip_targets_entrez_float)\n",
        "p_value = hypergeom.sf(k, M, n, N)\n",
        "print([k,M,n,N,p_value])"
      ],
      "metadata": {
        "colab": {
          "base_uri": "https://localhost:8080/"
        },
        "id": "iCxj8o2kE5Y4",
        "outputId": "f4e91010-e4b9-4f99-ccac-dfcac5400bb9"
      },
      "execution_count": 48,
      "outputs": [
        {
          "output_type": "stream",
          "name": "stdout",
          "text": [
            "[2020, 20000, 2803, 11426, 1.2726667830487699e-69]\n"
          ]
        }
      ]
    },
    {
      "cell_type": "markdown",
      "source": [
        "##<h4>5.3 (optional) Interpreation of p-value</h4>\n",
        "<p>This p-value indicates that is is very unlikely we would have observed this overlap by chance alone.</p>"
      ],
      "metadata": {
        "id": "24oa5RLCFZ8n"
      }
    },
    {
      "cell_type": "markdown",
      "source": [
        "#6. Make Venn diagram"
      ],
      "metadata": {
        "id": "sY-JMrhEGM6H"
      }
    },
    {
      "cell_type": "markdown",
      "source": [
        "##<h4>6.1 Make a Venn diagram of DEGs and ChIP-seq target genes</h4>\n",
        "\n",
        "<p></p>"
      ],
      "metadata": {
        "id": "8TO-OUGAGR8-"
      }
    },
    {
      "cell_type": "code",
      "source": [
        "venn2([set(degs), set(chip_targets_entrez_float)], ('USF1 OE DEGs','USF1 ChIP-seq target genes'))\n",
        "plt.show()"
      ],
      "metadata": {
        "colab": {
          "base_uri": "https://localhost:8080/",
          "height": 251
        },
        "id": "9Nv9NdP2GSW-",
        "outputId": "87ad8489-91e3-49d5-80f3-cef6aeb91ccb"
      },
      "execution_count": 51,
      "outputs": [
        {
          "output_type": "display_data",
          "data": {
            "text/plain": [
              "<Figure size 432x288 with 1 Axes>"
            ],
            "image/png": "[encoded data removed]"
          },
          "metadata": {}
        }
      ]
    },
    {
      "cell_type": "markdown",
      "source": [
        "##<h4>6.2 Interpretation of plot</h4>\n",
        "\n",
        "<p>A majority of differentially expressed genes are also direct targets of USF1. This suggests that the over-expresion was successful and that the ChIP-seq experiment was as well. We use the gut check to ensure that our studies are solid. And then the 2,020 genes would be our direct targets that change significantly with changes in USF1 expression.</p>"
      ],
      "metadata": {
        "id": "WtIjD5qcHBGX"
      }
    }
  ]
}